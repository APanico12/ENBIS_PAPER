{
 "cells": [
  {
   "cell_type": "code",
   "execution_count": 2,
   "id": "fbefafd3",
   "metadata": {},
   "outputs": [],
   "source": [
    "import pandas as pd \n",
    "import numpy as np "
   ]
  },
  {
   "cell_type": "code",
   "execution_count": null,
   "id": "caec27c9",
   "metadata": {},
   "outputs": [
    {
     "data": {
      "application/vnd.microsoft.datawrangler.viewer.v0+json": {
       "columns": [
        {
         "name": "index",
         "rawType": "int64",
         "type": "integer"
        },
        {
         "name": "DateTime(UTC)",
         "rawType": "datetime64[ns]",
         "type": "datetime"
        },
        {
         "name": "AreaDisplayName",
         "rawType": "object",
         "type": "string"
        },
        {
         "name": "Price[Currency/MWh]",
         "rawType": "float64",
         "type": "float"
        }
       ],
       "conversionMethod": "pd.DataFrame",
       "ref": "30c91572-c45f-4ac9-9756-5ec2d359c2f7",
       "rows": [
        [
         "0",
         "2020-01-01 12:00:00",
         "Austria (AT)",
         "30.04"
        ],
        [
         "1",
         "2020-01-02 12:00:00",
         "Austria (AT)",
         "44.9"
        ],
        [
         "2",
         "2020-01-03 12:00:00",
         "Austria (AT)",
         "42.97"
        ],
        [
         "3",
         "2020-01-04 12:00:00",
         "Austria (AT)",
         "40.0"
        ],
        [
         "4",
         "2020-01-05 12:00:00",
         "Austria (AT)",
         "35.37"
        ],
        [
         "5",
         "2020-01-06 12:00:00",
         "Austria (AT)",
         "40.51"
        ],
        [
         "6",
         "2020-01-07 12:00:00",
         "Austria (AT)",
         "47.99"
        ],
        [
         "7",
         "2020-01-08 12:00:00",
         "Austria (AT)",
         "45.97"
        ],
        [
         "8",
         "2020-01-09 12:00:00",
         "Austria (AT)",
         "45.23"
        ],
        [
         "9",
         "2020-01-10 12:00:00",
         "Austria (AT)",
         "45.98"
        ],
        [
         "10",
         "2020-01-11 12:00:00",
         "Austria (AT)",
         "34.08"
        ],
        [
         "11",
         "2020-01-12 12:00:00",
         "Austria (AT)",
         "32.07"
        ],
        [
         "12",
         "2020-01-13 12:00:00",
         "Austria (AT)",
         "45.95"
        ],
        [
         "13",
         "2020-01-14 12:00:00",
         "Austria (AT)",
         "44.99"
        ],
        [
         "14",
         "2020-01-15 12:00:00",
         "Austria (AT)",
         "43.99"
        ],
        [
         "15",
         "2020-01-16 12:00:00",
         "Austria (AT)",
         "43.93"
        ],
        [
         "16",
         "2020-01-17 12:00:00",
         "Austria (AT)",
         "42.03"
        ],
        [
         "17",
         "2020-01-18 12:00:00",
         "Austria (AT)",
         "41.94"
        ],
        [
         "18",
         "2020-01-19 12:00:00",
         "Austria (AT)",
         "39.11"
        ],
        [
         "19",
         "2020-01-20 12:00:00",
         "Austria (AT)",
         "43.02"
        ],
        [
         "20",
         "2020-01-21 12:00:00",
         "Austria (AT)",
         "47.81"
        ],
        [
         "21",
         "2020-01-22 12:00:00",
         "Austria (AT)",
         "45.97"
        ],
        [
         "22",
         "2020-01-23 12:00:00",
         "Austria (AT)",
         "53.68"
        ],
        [
         "23",
         "2020-01-24 12:00:00",
         "Austria (AT)",
         "53.29"
        ],
        [
         "24",
         "2020-01-25 12:00:00",
         "Austria (AT)",
         "41.9"
        ],
        [
         "25",
         "2020-01-26 12:00:00",
         "Austria (AT)",
         "38.23"
        ],
        [
         "26",
         "2020-01-27 12:00:00",
         "Austria (AT)",
         "44.93"
        ],
        [
         "27",
         "2020-01-28 12:00:00",
         "Austria (AT)",
         "44.92"
        ],
        [
         "28",
         "2020-01-29 12:00:00",
         "Austria (AT)",
         "42.94"
        ],
        [
         "29",
         "2020-01-30 12:00:00",
         "Austria (AT)",
         "42.98"
        ],
        [
         "30",
         "2020-01-31 12:00:00",
         "Austria (AT)",
         "41.33"
        ],
        [
         "31",
         "2020-01-01 12:00:00",
         "Austria (AT)",
         "19.23"
        ],
        [
         "32",
         "2020-01-01 12:15:00",
         "Austria (AT)",
         "45.0"
        ],
        [
         "33",
         "2020-01-01 12:30:00",
         "Austria (AT)",
         "38.02"
        ],
        [
         "34",
         "2020-01-01 12:45:00",
         "Austria (AT)",
         "18.0"
        ],
        [
         "35",
         "2020-01-02 12:00:00",
         "Austria (AT)",
         "46.85"
        ],
        [
         "36",
         "2020-01-02 12:15:00",
         "Austria (AT)",
         "52.01"
        ],
        [
         "37",
         "2020-01-02 12:30:00",
         "Austria (AT)",
         "45.0"
        ],
        [
         "38",
         "2020-01-02 12:45:00",
         "Austria (AT)",
         "22.0"
        ],
        [
         "39",
         "2020-01-03 12:00:00",
         "Austria (AT)",
         "54.0"
        ],
        [
         "40",
         "2020-01-03 12:15:00",
         "Austria (AT)",
         "54.0"
        ],
        [
         "41",
         "2020-01-03 12:30:00",
         "Austria (AT)",
         "30.0"
        ],
        [
         "42",
         "2020-01-03 12:45:00",
         "Austria (AT)",
         "25.84"
        ],
        [
         "43",
         "2020-01-04 12:00:00",
         "Austria (AT)",
         "44.0"
        ],
        [
         "44",
         "2020-01-04 12:15:00",
         "Austria (AT)",
         "44.0"
        ],
        [
         "45",
         "2020-01-04 12:30:00",
         "Austria (AT)",
         "12.82"
        ],
        [
         "46",
         "2020-01-04 12:45:00",
         "Austria (AT)",
         "23.35"
        ],
        [
         "47",
         "2020-01-05 12:00:00",
         "Austria (AT)",
         "25.04"
        ],
        [
         "48",
         "2020-01-05 12:15:00",
         "Austria (AT)",
         "46.0"
        ],
        [
         "49",
         "2020-01-05 12:30:00",
         "Austria (AT)",
         "42.45"
        ]
       ],
       "shape": {
        "columns": 3,
        "rows": 47502
       }
      },
      "text/html": [
       "<div>\n",
       "<style scoped>\n",
       "    .dataframe tbody tr th:only-of-type {\n",
       "        vertical-align: middle;\n",
       "    }\n",
       "\n",
       "    .dataframe tbody tr th {\n",
       "        vertical-align: top;\n",
       "    }\n",
       "\n",
       "    .dataframe thead th {\n",
       "        text-align: right;\n",
       "    }\n",
       "</style>\n",
       "<table border=\"1\" class=\"dataframe\">\n",
       "  <thead>\n",
       "    <tr style=\"text-align: right;\">\n",
       "      <th></th>\n",
       "      <th>DateTime(UTC)</th>\n",
       "      <th>AreaDisplayName</th>\n",
       "      <th>Price[Currency/MWh]</th>\n",
       "    </tr>\n",
       "  </thead>\n",
       "  <tbody>\n",
       "    <tr>\n",
       "      <th>0</th>\n",
       "      <td>2020-01-01 12:00:00</td>\n",
       "      <td>Austria (AT)</td>\n",
       "      <td>30.04</td>\n",
       "    </tr>\n",
       "    <tr>\n",
       "      <th>1</th>\n",
       "      <td>2020-01-02 12:00:00</td>\n",
       "      <td>Austria (AT)</td>\n",
       "      <td>44.90</td>\n",
       "    </tr>\n",
       "    <tr>\n",
       "      <th>2</th>\n",
       "      <td>2020-01-03 12:00:00</td>\n",
       "      <td>Austria (AT)</td>\n",
       "      <td>42.97</td>\n",
       "    </tr>\n",
       "    <tr>\n",
       "      <th>3</th>\n",
       "      <td>2020-01-04 12:00:00</td>\n",
       "      <td>Austria (AT)</td>\n",
       "      <td>40.00</td>\n",
       "    </tr>\n",
       "    <tr>\n",
       "      <th>4</th>\n",
       "      <td>2020-01-05 12:00:00</td>\n",
       "      <td>Austria (AT)</td>\n",
       "      <td>35.37</td>\n",
       "    </tr>\n",
       "    <tr>\n",
       "      <th>...</th>\n",
       "      <td>...</td>\n",
       "      <td>...</td>\n",
       "      <td>...</td>\n",
       "    </tr>\n",
       "    <tr>\n",
       "      <th>47497</th>\n",
       "      <td>2024-12-27 12:00:00</td>\n",
       "      <td>Slovenia (SI)</td>\n",
       "      <td>107.94</td>\n",
       "    </tr>\n",
       "    <tr>\n",
       "      <th>47498</th>\n",
       "      <td>2024-12-28 12:00:00</td>\n",
       "      <td>Slovenia (SI)</td>\n",
       "      <td>110.01</td>\n",
       "    </tr>\n",
       "    <tr>\n",
       "      <th>47499</th>\n",
       "      <td>2024-12-29 12:00:00</td>\n",
       "      <td>Slovenia (SI)</td>\n",
       "      <td>108.88</td>\n",
       "    </tr>\n",
       "    <tr>\n",
       "      <th>47500</th>\n",
       "      <td>2024-12-30 12:00:00</td>\n",
       "      <td>Slovenia (SI)</td>\n",
       "      <td>114.03</td>\n",
       "    </tr>\n",
       "    <tr>\n",
       "      <th>47501</th>\n",
       "      <td>2024-12-31 12:00:00</td>\n",
       "      <td>Slovenia (SI)</td>\n",
       "      <td>103.29</td>\n",
       "    </tr>\n",
       "  </tbody>\n",
       "</table>\n",
       "<p>47502 rows × 3 columns</p>\n",
       "</div>"
      ],
      "text/plain": [
       "            DateTime(UTC) AreaDisplayName  Price[Currency/MWh]\n",
       "0     2020-01-01 12:00:00    Austria (AT)                30.04\n",
       "1     2020-01-02 12:00:00    Austria (AT)                44.90\n",
       "2     2020-01-03 12:00:00    Austria (AT)                42.97\n",
       "3     2020-01-04 12:00:00    Austria (AT)                40.00\n",
       "4     2020-01-05 12:00:00    Austria (AT)                35.37\n",
       "...                   ...             ...                  ...\n",
       "47497 2024-12-27 12:00:00   Slovenia (SI)               107.94\n",
       "47498 2024-12-28 12:00:00   Slovenia (SI)               110.01\n",
       "47499 2024-12-29 12:00:00   Slovenia (SI)               108.88\n",
       "47500 2024-12-30 12:00:00   Slovenia (SI)               114.03\n",
       "47501 2024-12-31 12:00:00   Slovenia (SI)               103.29\n",
       "\n",
       "[47502 rows x 3 columns]"
      ]
     },
     "execution_count": 37,
     "metadata": {},
     "output_type": "execute_result"
    }
   ],
   "source": [
    "#List of countries to be used in the analysis\n",
    "countries = ['Austria (AT)', 'Belgium (BE)', \n",
    "       'Switzerland (CH)', 'Czech Republic (CZ)', 'DE-LU',\n",
    "       'Estonia (EE)', 'Spain (ES)', 'Finland (FI)', 'France (FR)', \n",
    "       'Greece (GR)', 'Croatia (HR)', 'Hungary (HU)', \n",
    "       'IT-North','Lithuania (LT)', 'Netherlands (NL)', \n",
    "       'Poland (PL)', 'Portugal (PT)',\n",
    "       'Slovenia (SI)']\n",
    "start_year = 2020 \n",
    "end_year = 2024 \n",
    "moths = [f'0{x}' if x < 10 else str(x) for x in range(1, 13)]\n",
    "joined = pd.DataFrame()\n",
    "#Loop through the countries and years to create a DataFrame with the desired structure     \n",
    "\n",
    "for year in range(start_year, end_year+1):\n",
    " for month in moths:\n",
    "       df = pd.read_csv(f'ENTSOE_DATA/{year}_{month}_EnergyPrices_12.1.D_r3.csv', sep='\\t')\n",
    "       df['DateTime(UTC)'] = pd.to_datetime(df['DateTime(UTC)'])\n",
    "       df=df[df['DateTime(UTC)'].dt.hour == 12]\n",
    "       df = df[df['AreaDisplayName'].isin(countries)]\n",
    "       df = df[['DateTime(UTC)', 'AreaDisplayName', 'Price[Currency/MWh]']]\n",
    "       joined = pd.concat([joined, df], ignore_index=True)\n",
    "\n"
   ]
  },
  {
   "cell_type": "code",
   "execution_count": null,
   "id": "131bce76",
   "metadata": {},
   "outputs": [
    {
     "data": {
      "application/vnd.microsoft.datawrangler.viewer.v0+json": {
       "columns": [
        {
         "name": "index",
         "rawType": "int64",
         "type": "integer"
        },
        {
         "name": "DateTime(UTC)",
         "rawType": "datetime64[ns]",
         "type": "datetime"
        },
        {
         "name": "AreaDisplayName",
         "rawType": "object",
         "type": "string"
        },
        {
         "name": "Price[Currency/MWh]",
         "rawType": "float64",
         "type": "float"
        }
       ],
       "conversionMethod": "pd.DataFrame",
       "ref": "6cd9b0e1-7350-4942-94ff-233311f1c5bf",
       "rows": [
        [
         "12",
         "2020-01-01 12:00:00",
         "Austria (AT)",
         "30.04"
        ],
        [
         "36",
         "2020-01-02 12:00:00",
         "Austria (AT)",
         "44.9"
        ],
        [
         "60",
         "2020-01-03 12:00:00",
         "Austria (AT)",
         "42.97"
        ],
        [
         "84",
         "2020-01-04 12:00:00",
         "Austria (AT)",
         "40.0"
        ],
        [
         "108",
         "2020-01-05 12:00:00",
         "Austria (AT)",
         "35.37"
        ],
        [
         "132",
         "2020-01-06 12:00:00",
         "Austria (AT)",
         "40.51"
        ],
        [
         "156",
         "2020-01-07 12:00:00",
         "Austria (AT)",
         "47.99"
        ],
        [
         "180",
         "2020-01-08 12:00:00",
         "Austria (AT)",
         "45.97"
        ],
        [
         "204",
         "2020-01-09 12:00:00",
         "Austria (AT)",
         "45.23"
        ],
        [
         "228",
         "2020-01-10 12:00:00",
         "Austria (AT)",
         "45.98"
        ],
        [
         "252",
         "2020-01-11 12:00:00",
         "Austria (AT)",
         "34.08"
        ],
        [
         "276",
         "2020-01-12 12:00:00",
         "Austria (AT)",
         "32.07"
        ],
        [
         "300",
         "2020-01-13 12:00:00",
         "Austria (AT)",
         "45.95"
        ],
        [
         "324",
         "2020-01-14 12:00:00",
         "Austria (AT)",
         "44.99"
        ],
        [
         "348",
         "2020-01-15 12:00:00",
         "Austria (AT)",
         "43.99"
        ],
        [
         "372",
         "2020-01-16 12:00:00",
         "Austria (AT)",
         "43.93"
        ],
        [
         "396",
         "2020-01-17 12:00:00",
         "Austria (AT)",
         "42.03"
        ],
        [
         "420",
         "2020-01-18 12:00:00",
         "Austria (AT)",
         "41.94"
        ],
        [
         "444",
         "2020-01-19 12:00:00",
         "Austria (AT)",
         "39.11"
        ],
        [
         "468",
         "2020-01-20 12:00:00",
         "Austria (AT)",
         "43.02"
        ],
        [
         "492",
         "2020-01-21 12:00:00",
         "Austria (AT)",
         "47.81"
        ],
        [
         "516",
         "2020-01-22 12:00:00",
         "Austria (AT)",
         "45.97"
        ],
        [
         "540",
         "2020-01-23 12:00:00",
         "Austria (AT)",
         "53.68"
        ],
        [
         "564",
         "2020-01-24 12:00:00",
         "Austria (AT)",
         "53.29"
        ],
        [
         "588",
         "2020-01-25 12:00:00",
         "Austria (AT)",
         "41.9"
        ],
        [
         "612",
         "2020-01-26 12:00:00",
         "Austria (AT)",
         "38.23"
        ],
        [
         "636",
         "2020-01-27 12:00:00",
         "Austria (AT)",
         "44.93"
        ],
        [
         "660",
         "2020-01-28 12:00:00",
         "Austria (AT)",
         "44.92"
        ],
        [
         "684",
         "2020-01-29 12:00:00",
         "Austria (AT)",
         "42.94"
        ],
        [
         "708",
         "2020-01-30 12:00:00",
         "Austria (AT)",
         "42.98"
        ],
        [
         "732",
         "2020-01-31 12:00:00",
         "Austria (AT)",
         "41.33"
        ],
        [
         "792",
         "2020-01-01 12:00:00",
         "Austria (AT)",
         "19.23"
        ],
        [
         "793",
         "2020-01-01 12:15:00",
         "Austria (AT)",
         "45.0"
        ],
        [
         "794",
         "2020-01-01 12:30:00",
         "Austria (AT)",
         "38.02"
        ],
        [
         "795",
         "2020-01-01 12:45:00",
         "Austria (AT)",
         "18.0"
        ],
        [
         "888",
         "2020-01-02 12:00:00",
         "Austria (AT)",
         "46.85"
        ],
        [
         "889",
         "2020-01-02 12:15:00",
         "Austria (AT)",
         "52.01"
        ],
        [
         "890",
         "2020-01-02 12:30:00",
         "Austria (AT)",
         "45.0"
        ],
        [
         "891",
         "2020-01-02 12:45:00",
         "Austria (AT)",
         "22.0"
        ],
        [
         "984",
         "2020-01-03 12:00:00",
         "Austria (AT)",
         "54.0"
        ],
        [
         "985",
         "2020-01-03 12:15:00",
         "Austria (AT)",
         "54.0"
        ],
        [
         "986",
         "2020-01-03 12:30:00",
         "Austria (AT)",
         "30.0"
        ],
        [
         "987",
         "2020-01-03 12:45:00",
         "Austria (AT)",
         "25.84"
        ],
        [
         "1080",
         "2020-01-04 12:00:00",
         "Austria (AT)",
         "44.0"
        ],
        [
         "1081",
         "2020-01-04 12:15:00",
         "Austria (AT)",
         "44.0"
        ],
        [
         "1082",
         "2020-01-04 12:30:00",
         "Austria (AT)",
         "12.82"
        ],
        [
         "1083",
         "2020-01-04 12:45:00",
         "Austria (AT)",
         "23.35"
        ],
        [
         "1176",
         "2020-01-05 12:00:00",
         "Austria (AT)",
         "25.04"
        ],
        [
         "1177",
         "2020-01-05 12:15:00",
         "Austria (AT)",
         "46.0"
        ],
        [
         "1178",
         "2020-01-05 12:30:00",
         "Austria (AT)",
         "42.45"
        ]
       ],
       "shape": {
        "columns": 3,
        "rows": 806
       }
      },
      "text/html": [
       "<div>\n",
       "<style scoped>\n",
       "    .dataframe tbody tr th:only-of-type {\n",
       "        vertical-align: middle;\n",
       "    }\n",
       "\n",
       "    .dataframe tbody tr th {\n",
       "        vertical-align: top;\n",
       "    }\n",
       "\n",
       "    .dataframe thead th {\n",
       "        text-align: right;\n",
       "    }\n",
       "</style>\n",
       "<table border=\"1\" class=\"dataframe\">\n",
       "  <thead>\n",
       "    <tr style=\"text-align: right;\">\n",
       "      <th></th>\n",
       "      <th>DateTime(UTC)</th>\n",
       "      <th>AreaDisplayName</th>\n",
       "      <th>Price[Currency/MWh]</th>\n",
       "    </tr>\n",
       "  </thead>\n",
       "  <tbody>\n",
       "    <tr>\n",
       "      <th>12</th>\n",
       "      <td>2020-01-01 12:00:00</td>\n",
       "      <td>Austria (AT)</td>\n",
       "      <td>30.04</td>\n",
       "    </tr>\n",
       "    <tr>\n",
       "      <th>36</th>\n",
       "      <td>2020-01-02 12:00:00</td>\n",
       "      <td>Austria (AT)</td>\n",
       "      <td>44.90</td>\n",
       "    </tr>\n",
       "    <tr>\n",
       "      <th>60</th>\n",
       "      <td>2020-01-03 12:00:00</td>\n",
       "      <td>Austria (AT)</td>\n",
       "      <td>42.97</td>\n",
       "    </tr>\n",
       "    <tr>\n",
       "      <th>84</th>\n",
       "      <td>2020-01-04 12:00:00</td>\n",
       "      <td>Austria (AT)</td>\n",
       "      <td>40.00</td>\n",
       "    </tr>\n",
       "    <tr>\n",
       "      <th>108</th>\n",
       "      <td>2020-01-05 12:00:00</td>\n",
       "      <td>Austria (AT)</td>\n",
       "      <td>35.37</td>\n",
       "    </tr>\n",
       "    <tr>\n",
       "      <th>...</th>\n",
       "      <td>...</td>\n",
       "      <td>...</td>\n",
       "      <td>...</td>\n",
       "    </tr>\n",
       "    <tr>\n",
       "      <th>37836</th>\n",
       "      <td>2020-01-27 12:00:00</td>\n",
       "      <td>Slovenia (SI)</td>\n",
       "      <td>78.20</td>\n",
       "    </tr>\n",
       "    <tr>\n",
       "      <th>37860</th>\n",
       "      <td>2020-01-28 12:00:00</td>\n",
       "      <td>Slovenia (SI)</td>\n",
       "      <td>46.95</td>\n",
       "    </tr>\n",
       "    <tr>\n",
       "      <th>37884</th>\n",
       "      <td>2020-01-29 12:00:00</td>\n",
       "      <td>Slovenia (SI)</td>\n",
       "      <td>76.75</td>\n",
       "    </tr>\n",
       "    <tr>\n",
       "      <th>37908</th>\n",
       "      <td>2020-01-30 12:00:00</td>\n",
       "      <td>Slovenia (SI)</td>\n",
       "      <td>49.79</td>\n",
       "    </tr>\n",
       "    <tr>\n",
       "      <th>37932</th>\n",
       "      <td>2020-01-31 12:00:00</td>\n",
       "      <td>Slovenia (SI)</td>\n",
       "      <td>48.00</td>\n",
       "    </tr>\n",
       "  </tbody>\n",
       "</table>\n",
       "<p>806 rows × 3 columns</p>\n",
       "</div>"
      ],
      "text/plain": [
       "            DateTime(UTC) AreaDisplayName  Price[Currency/MWh]\n",
       "12    2020-01-01 12:00:00    Austria (AT)                30.04\n",
       "36    2020-01-02 12:00:00    Austria (AT)                44.90\n",
       "60    2020-01-03 12:00:00    Austria (AT)                42.97\n",
       "84    2020-01-04 12:00:00    Austria (AT)                40.00\n",
       "108   2020-01-05 12:00:00    Austria (AT)                35.37\n",
       "...                   ...             ...                  ...\n",
       "37836 2020-01-27 12:00:00   Slovenia (SI)                78.20\n",
       "37860 2020-01-28 12:00:00   Slovenia (SI)                46.95\n",
       "37884 2020-01-29 12:00:00   Slovenia (SI)                76.75\n",
       "37908 2020-01-30 12:00:00   Slovenia (SI)                49.79\n",
       "37932 2020-01-31 12:00:00   Slovenia (SI)                48.00\n",
       "\n",
       "[806 rows x 3 columns]"
      ]
     },
     "execution_count": 34,
     "metadata": {},
     "output_type": "execute_result"
    }
   ],
   "source": [
    "joined"
   ]
  },
  {
   "cell_type": "code",
   "execution_count": null,
   "id": "4512f55b",
   "metadata": {},
   "outputs": [],
   "source": []
  },
  {
   "cell_type": "code",
   "execution_count": null,
   "id": "22474397",
   "metadata": {},
   "outputs": [],
   "source": []
  }
 ],
 "metadata": {
  "kernelspec": {
   "display_name": "Python 3",
   "language": "python",
   "name": "python3"
  },
  "language_info": {
   "codemirror_mode": {
    "name": "ipython",
    "version": 3
   },
   "file_extension": ".py",
   "mimetype": "text/x-python",
   "name": "python",
   "nbconvert_exporter": "python",
   "pygments_lexer": "ipython3",
   "version": "3.11.9"
  }
 },
 "nbformat": 4,
 "nbformat_minor": 5
}
